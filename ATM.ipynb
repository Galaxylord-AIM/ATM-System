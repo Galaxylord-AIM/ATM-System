{
  "nbformat": 4,
  "nbformat_minor": 0,
  "metadata": {
    "colab": {
      "name": "ATM.ipynb",
      "provenance": [],
      "collapsed_sections": [],
      "include_colab_link": true
    },
    "kernelspec": {
      "name": "python3",
      "display_name": "Python 3"
    }
  },
  "cells": [
    {
      "cell_type": "markdown",
      "metadata": {
        "id": "view-in-github",
        "colab_type": "text"
      },
      "source": [
        "<a href=\"https://colab.research.google.com/github/Galaxylord-AIM/ATM-System/blob/main/ATM.ipynb\" target=\"_parent\"><img src=\"https://colab.research.google.com/assets/colab-badge.svg\" alt=\"Open In Colab\"/></a>"
      ]
    },
    {
      "cell_type": "markdown",
      "metadata": {
        "id": "GVwpoXVwVFI4"
      },
      "source": [
        "ATM Simulator Assignment is written in Python. The Assignment file contains a python\n",
        "script (atm.py). This is a simple console-based system which is very easy to use. Talking\n",
        "about the system, it contains various functions which include View Balance, Withdrawing,\n",
        "Depositing amount, and changing the pin. Here, at first, the user has to enter an existing\n",
        "username, when the username matches the system proceed toward the next procedure i.e\n",
        "asking for a password/pin number. When a user passes all these sign-in procedures,\n",
        "he/she can use all those features. It is too easy to use, he/she can check their respective\n",
        "account statements, Deposit, and Withdrawing as well.\n",
        "\n",
        "While the user forgot the password on login you have to create a forgot password\n",
        "functionality.\n",
        "\n",
        "And forgot password on based on stored email address. If the user type coreect email then\n",
        "you have to give a prompt for new password.\n",
        "\n",
        "While depositing or withdrawing an amount, he/she just has to enter the amount then the\n",
        "system calculates the total remaining balance of the respective account and displays to the\n",
        "user. And the user can view all these transactions from the account statement. In this ATM\n",
        "Simulator, the user can also change the password/pin number. For this, the user has to\n",
        "enter the New pin code and then confirm it in order to change the pin code. This simple\n",
        "console-based ATM simulator provides the simple account balance management of a\n",
        "respective account. It contains all the essential features. There is no database connection\n",
        "or neither any external text nor other files used in this mini Assignment to save the user’s\n",
        "data. Everything is set inside the source code whether its password/pin code or the\n",
        "amount.\n"
      ]
    },
    {
      "cell_type": "markdown",
      "metadata": {
        "id": "nktEC4FYVTBU"
      },
      "source": [
        "Functality:\n",
        "\n",
        "1. Login\n",
        "2. Sign Up\n",
        "3. Exit\n",
        "4. Withdrawl \n",
        "5. Deposit \n",
        "6. View Balance\n",
        "7. Password Change\n",
        "8. Forgot password"
      ]
    },
    {
      "cell_type": "markdown",
      "metadata": {
        "id": "J8gqCAI93HG3"
      },
      "source": [
        "ToDOs"
      ]
    },
    {
      "cell_type": "code",
      "metadata": {
        "id": "79_zk2At3Efh"
      },
      "source": [
        "# DONE: The Assignment file contains a python script (atm.py). \n",
        "# DONE: The system contains various functions which include View Balance, Withdrawing, Depositing amount, and changing the pin. \n",
        "# DONE: The user has to enter an existing username, \n",
        "# DONE: when the username matches the system proceed toward the next procedure i.e asking for a password/pin number. \n",
        "# DONE: While the user forgot the password on login you have to create a forgot password functionality.\n",
        "# DONE: And forgot password on based on stored email address. If the user type correct email then you have to give a prompt for new password.\n",
        "# DONE: When a user passes all these sign-in procedures, \n",
        "# DONE: he/she can use all those features: View Balance, Withdrawing, Depositing amount, and changing the pin. \n",
        "# DONE: he/she can check their respective account statements, Deposit, and Withdrawing as well.\n",
        "# DONE: While depositing or withdrawing an amount, he/she just has to enter the amount then the system calculates the total remaining balance of the respective account and displays to the user. \n",
        "# DONE: And the user can view all these transactions from the account statement. \n",
        "# DONE: the user can also change the password/pin number. For this, the user has to enter the New pin code and then confirm it in order to change the pin code. \n",
        "# DONE: This simple console-based ATM simulator provides the simple account balance management of a respective account. "
      ],
      "execution_count": null,
      "outputs": []
    },
    {
      "cell_type": "markdown",
      "metadata": {
        "id": "jTCUvt923XKD"
      },
      "source": [
        "Final code in one cell"
      ]
    },
    {
      "cell_type": "code",
      "metadata": {
        "id": "uOA00AwFaR6j"
      },
      "source": [
        "database = {\n",
        "    'username_1':{\n",
        "        'name' : 'user 1',\n",
        "        'age': 24,\n",
        "        'email': 'user_1@gmail.com',\n",
        "        'password': 'user1',\n",
        "        'balance' : 1000\n",
        "    },\n",
        "    'username_2':{\n",
        "        'name' : 'user 2',\n",
        "        'age': 24,\n",
        "        'email': 'user_2@yahoo.com',\n",
        "        'password': 'user2',\n",
        "        'balance' : 1000\n",
        "    },\n",
        "    'username_3':{\n",
        "        'name' : 'user 3',\n",
        "        'age': 24,\n",
        "        'email': 'user_3@outlook.com',\n",
        "        'password': 'user3',\n",
        "        'balance' : 1000\n",
        "    },'username_4':{\n",
        "        'name' : 'user 4',\n",
        "        'age': 24,\n",
        "        'email': 'user_4@gmail.com',\n",
        "        'password': 'user4',\n",
        "        'balance' : 1000\n",
        "    }\n",
        "}"
      ],
      "execution_count": null,
      "outputs": []
    },
    {
      "cell_type": "code",
      "metadata": {
        "id": "xBZDV8uML9QF"
      },
      "source": [
        "def login(usern, password):\n",
        "  while usern not in database or database[usern]['password'] != password:\n",
        "    usern = input('Please enter your correct username: ')\n",
        "    password =input('please enter your corresponding password: ')\n",
        "    forgot = input('Forgot password? Y/N: ')\n",
        "    if forgot == 'Y' or forgot == 'y':\n",
        "      email = input('Enter your email: ')\n",
        "      passwordChange(usern, email)\n",
        "  print('Welcome!')\n",
        "  return usern"
      ],
      "execution_count": null,
      "outputs": []
    },
    {
      "cell_type": "code",
      "metadata": {
        "id": "gsIJnvh4NuJW"
      },
      "source": [
        "def signUp():\n",
        "  username = 'username_1'\n",
        "  while username in database:\n",
        "    username = input('Choose username that is not taken: ')\n",
        "\n",
        "  name = input('Enter your name: ')\n",
        "  age = int(input('Enter your age: '))\n",
        "  email = input('Enter your email: ')\n",
        "  password = input('Choose a strong password: ')\n",
        "\n",
        "  database[username] = {\n",
        "      'name' : name,\n",
        "      'age' : age,\n",
        "      'email' : email,\n",
        "      'password' : password,\n",
        "      'balance' : 1000\n",
        "  }\n",
        "\n",
        "  print('Congratulations! New account created.')"
      ],
      "execution_count": null,
      "outputs": []
    },
    {
      "cell_type": "code",
      "metadata": {
        "id": "HhxTxHCiQF7h"
      },
      "source": [
        "def withdrawal(user):\n",
        "  amount = int(input('Enter amount to withdraw'))\n",
        "  if (amount > database[user]['balance']):\n",
        "    print(\"Sorry, currently you don't have sufficient balance.\")\n",
        "  else:\n",
        "    database[user]['balance'] = database[user]['balance'] - amount\n",
        "    print(\"Transaction successful!\")"
      ],
      "execution_count": null,
      "outputs": []
    },
    {
      "cell_type": "code",
      "metadata": {
        "id": "1-np6VL0Rg6Q"
      },
      "source": [
        "def deposit(user):\n",
        "  amount = int(input('Enter amount to deposit'))\n",
        "  database[user]['balance'] = database[user]['balance'] + amount\n",
        "  print(\"Transaction successful!\")"
      ],
      "execution_count": null,
      "outputs": []
    },
    {
      "cell_type": "code",
      "metadata": {
        "id": "g_y-Bdk3SE1_"
      },
      "source": [
        "def viewBalance(user):\n",
        "  print('Your balance is {} INR'.format(database[user]['balance']))"
      ],
      "execution_count": null,
      "outputs": []
    },
    {
      "cell_type": "code",
      "metadata": {
        "id": "n6WWXp4DSUXJ"
      },
      "source": [
        "def passwordChange(user, email):\n",
        "  while email != database[user]['email']:\n",
        "    email = input('Enter your correct email ID:')\n",
        "  database[user]['password'] = input('Choose your new password: ')\n",
        "  print('Password changed! Now login please!')\n",
        "  "
      ],
      "execution_count": null,
      "outputs": []
    },
    {
      "cell_type": "code",
      "metadata": {
        "id": "egmALOcHU44C"
      },
      "source": [
        "def option():\n",
        "    input(\n",
        "        '''\n",
        "        Choose the following options:\n",
        "        0. Exit\n",
        "        1. Deposit\n",
        "        2. Withdraw\n",
        "        3. View Balance\n",
        "        4. Change Password\n",
        "        '''\n",
        "    )"
      ],
      "execution_count": null,
      "outputs": []
    },
    {
      "cell_type": "code",
      "metadata": {
        "id": "6fLQTiz7WTR6"
      },
      "source": [
        "def main():\n",
        "  input('''\n",
        "      Choose one of the options:\n",
        "      1. Login \n",
        "      2. Sign Up\n",
        "      0. Exit\n",
        "     ''')"
      ],
      "execution_count": null,
      "outputs": []
    },
    {
      "cell_type": "code",
      "metadata": {
        "id": "zMxuYc4OUcUe"
      },
      "source": [
        "num = int(main())\n",
        "\n",
        "while num != 0:\n",
        "\n",
        "  if num == 1:\n",
        "    username = input('Enter username: ')\n",
        "    password = input('Enter Password: ')\n",
        "    user = login(username, password)\n",
        "    choice = int(option())\n",
        "    while choice != 0:\n",
        "      if choice == 1:\n",
        "        deposit(user)\n",
        "      elif choice == 2:\n",
        "        withdrawal(user)\n",
        "      elif choice == 3:\n",
        "        viewBalance(user)\n",
        "      elif choice == 4:\n",
        "        email = input('Enter you email: ')\n",
        "        passwordChange(user, email)\n",
        "\n",
        "      choice = int(option())      \n",
        "\n",
        "\n",
        "  elif num == 2:\n",
        "    signUp()\n",
        "\n",
        "  num = int(main())\n",
        "\n",
        "\n"
      ],
      "execution_count": null,
      "outputs": []
    },
    {
      "cell_type": "code",
      "metadata": {
        "id": "xoLzW0j1T5G7"
      },
      "source": [
        ""
      ],
      "execution_count": null,
      "outputs": []
    }
  ]
}